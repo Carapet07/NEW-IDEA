{
  "cells": [
    {
      "cell_type": "raw",
      "metadata": {
        "vscode": {
          "languageId": "raw"
        }
      },
      "source": [
        "# Environment Test - Escape Cage RL Project\n",
        "\n",
        "Testing all installed packages and basic functionality.\n"
      ]
    },
    {
      "cell_type": "code",
      "execution_count": 1,
      "metadata": {},
      "outputs": [
        {
          "name": "stdout",
          "output_type": "stream",
          "text": [
            "✅ All imports successful!\n",
            "TensorFlow version: 2.19.0\n",
            "Keras version: 3.10.0\n",
            "NumPy version: 2.1.3\n"
          ]
        }
      ],
      "source": [
        "# Core ML Libraries\n",
        "import tensorflow as tf\n",
        "import keras\n",
        "import numpy as np\n",
        "import pandas as pd\n",
        "import matplotlib.pyplot as plt\n",
        "\n",
        "# RL Libraries  \n",
        "import gymnasium as gym\n",
        "from stable_baselines3 import PPO\n",
        "from stable_baselines3.common.env_util import make_vec_env\n",
        "\n",
        "# Utilities\n",
        "import yaml\n",
        "from PIL import Image\n",
        "\n",
        "print(\"✅ All imports successful!\")\n",
        "print(f\"TensorFlow version: {tf.__version__}\")\n",
        "print(f\"Keras version: {keras.__version__}\")\n",
        "print(f\"NumPy version: {np.__version__}\")\n"
      ]
    },
    {
      "cell_type": "code",
      "execution_count": 2,
      "metadata": {},
      "outputs": [
        {
          "name": "stdout",
          "output_type": "stream",
          "text": [
            "🧠 Testing TensorFlow/Keras...\n",
            "✅ Neural network created with 2817 parameters\n"
          ]
        },
        {
          "name": "stderr",
          "output_type": "stream",
          "text": [
            "/Users/romacarapetean/Desktop/NEW-IDEA-main/escape_cage_env/lib/python3.11/site-packages/keras/src/layers/core/dense.py:93: UserWarning: Do not pass an `input_shape`/`input_dim` argument to a layer. When using Sequential models, prefer using an `Input(shape)` object as the first layer in the model instead.\n",
            "  super().__init__(activity_regularizer=activity_regularizer, **kwargs)\n"
          ]
        },
        {
          "name": "stdout",
          "output_type": "stream",
          "text": [
            "✅ TensorFlow/Keras training test successful!\n"
          ]
        }
      ],
      "source": [
        "# Test TensorFlow/Keras\n",
        "print(\"🧠 Testing TensorFlow/Keras...\")\n",
        "\n",
        "# Simple neural network\n",
        "model = keras.Sequential([\n",
        "    keras.layers.Dense(64, activation='relu', input_shape=(10,)),\n",
        "    keras.layers.Dense(32, activation='relu'),\n",
        "    keras.layers.Dense(1, activation='sigmoid')\n",
        "])\n",
        "\n",
        "model.compile(optimizer='adam', loss='binary_crossentropy', metrics=['accuracy'])\n",
        "print(f\"✅ Neural network created with {model.count_params()} parameters\")\n",
        "\n",
        "# Test with dummy data\n",
        "X_test = np.random.random((100, 10))\n",
        "y_test = np.random.randint(0, 2, 100)\n",
        "\n",
        "model.fit(X_test, y_test, epochs=5, verbose=0)\n",
        "print(\"✅ TensorFlow/Keras training test successful!\")\n"
      ]
    },
    {
      "cell_type": "code",
      "execution_count": 3,
      "metadata": {},
      "outputs": [
        {
          "name": "stdout",
          "output_type": "stream",
          "text": [
            "🎮 Testing RL environment...\n",
            "Environment: CartPole-v1\n",
            "Observation space: Box([-4.8               -inf -0.41887903        -inf], [4.8               inf 0.41887903        inf], (4,), float32)\n",
            "Action space: Discrete(2)\n",
            "✅ PPO agent created successfully\n",
            "✅ RL libraries test successful!\n",
            "\n",
            "🎉 ALL TESTS PASSED! Environment is ready for Escape Cage RL project!\n"
          ]
        }
      ],
      "source": [
        "# Test Gymnasium and Stable-Baselines3\n",
        "print(\"🎮 Testing RL environment...\")\n",
        "\n",
        "env = gym.make('CartPole-v1')\n",
        "observation, info = env.reset()\n",
        "\n",
        "print(f\"Environment: {env.spec.id}\")\n",
        "print(f\"Observation space: {env.observation_space}\")\n",
        "print(f\"Action space: {env.action_space}\")\n",
        "\n",
        "# Test Stable-Baselines3\n",
        "env_vec = make_vec_env('CartPole-v1', n_envs=1)\n",
        "model = PPO('MlpPolicy', env_vec, verbose=0)\n",
        "print(\"✅ PPO agent created successfully\")\n",
        "\n",
        "# Quick training test\n",
        "model.learn(total_timesteps=1000)\n",
        "print(\"✅ RL libraries test successful!\")\n",
        "\n",
        "env.close()\n",
        "env_vec.close()\n",
        "\n",
        "print(\"\\n🎉 ALL TESTS PASSED! Environment is ready for Escape Cage RL project!\")\n"
      ]
    }
  ],
  "metadata": {
    "kernelspec": {
      "display_name": "escape_cage_env",
      "language": "python",
      "name": "python3"
    },
    "language_info": {
      "codemirror_mode": {
        "name": "ipython",
        "version": 3
      },
      "file_extension": ".py",
      "mimetype": "text/x-python",
      "name": "python",
      "nbconvert_exporter": "python",
      "pygments_lexer": "ipython3",
      "version": "3.11.8"
    }
  },
  "nbformat": 4,
  "nbformat_minor": 2
}
